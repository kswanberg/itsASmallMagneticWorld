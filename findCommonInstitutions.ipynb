{
 "cells": [
  {
   "cell_type": "markdown",
   "id": "1d2c5e9d-e393-4ed1-9dfd-cc18270a3006",
   "metadata": {},
   "source": [
    "Set all the necessary things"
   ]
  },
  {
   "cell_type": "code",
   "execution_count": 185,
   "id": "13e5b2d4-cc3c-4138-9c43-5c8015def2e9",
   "metadata": {},
   "outputs": [],
   "source": [
    "import csv\n",
    "\n",
    "datafile = 'name_institution_data.csv'\n",
    "    "
   ]
  },
  {
   "cell_type": "markdown",
   "id": "3b54949c",
   "metadata": {},
   "source": [
    "Load in all name and institution information"
   ]
  },
  {
   "cell_type": "code",
   "execution_count": 186,
   "id": "d0a96ab6",
   "metadata": {},
   "outputs": [
    {
     "name": "stdout",
     "output_type": "stream",
     "text": [
      "Finished loading all institution data\n"
     ]
    }
   ],
   "source": [
    "with open(datafile) as csv_file:\n",
    "    csv_reader = csv.reader(csv_file)\n",
    "    fields = next(csv_reader)\n",
    "    cnt = 0\n",
    "    data = {}\n",
    "    for row in csv_reader:\n",
    "        ll = len(row)\n",
    "        data[cnt] = {fields[0] : row[0], fields[1] : row[1], fields[2] : row[2:ll]}\n",
    "        cnt+=1\n",
    "print('Finished loading all institution data')\n",
    "\n"
   ]
  },
  {
   "cell_type": "markdown",
   "id": "9cfd28ed-78aa-4386-9989-a9304a3b4fae",
   "metadata": {},
   "source": [
    "Query the user for a name or institution input"
   ]
  },
  {
   "cell_type": "code",
   "execution_count": 187,
   "id": "b0636980-db27-4518-835b-0030586cb803",
   "metadata": {
    "scrolled": true
   },
   "outputs": [
    {
     "name": "stdout",
     "output_type": "stream",
     "text": [
      "Which type of search would you like (Full Name, or Institution): Full Name\n",
      "Full Name\n",
      "What is the First Name?Megan\n",
      "What is the last name?Poorman\n"
     ]
    }
   ],
   "source": [
    "queryType = input('Which type of search would you like (Full Name, or Institution): ')\n",
    "\n",
    "print(queryType)\n",
    "\n",
    "if queryType=='Full Name':\n",
    "    queryFirst = input('What is the First Name?')\n",
    "    queryLast = input('What is the last name?')\n",
    "    \n",
    "    #print(queryFirst + ' ' + queryLast)\n",
    "    \n",
    "elif queryType=='Institution':\n",
    "    queryInstitution = input('Please type the full institution name you would like to search for (case sensitive): ')\n",
    "    \n",
    "    #print(queryInstitution)\n",
    "    \n"
   ]
  },
  {
   "cell_type": "markdown",
   "id": "5b9ec2ed",
   "metadata": {},
   "source": [
    "Define function to parse dictionary"
   ]
  },
  {
   "cell_type": "code",
   "execution_count": 188,
   "id": "e6c54d48",
   "metadata": {},
   "outputs": [],
   "source": [
    "def searchForName(fulldict,queryFirst,queryLast):\n",
    "    outputs = ''\n",
    "    for ii in fulldict:\n",
    "        foo = fulldict[ii]\n",
    "        if (queryFirst==foo['First Name']) and (queryLast==foo['Last Name']):\n",
    "                outputs = foo['Institutions']\n",
    "    return outputs\n",
    "\n",
    "def searchForInstitution(fulldict,queryInstitution):\n",
    "    outputs = ''\n",
    "    for ii in fulldict:\n",
    "        foo = fulldict[ii]\n",
    "        if queryInstitution in foo['Institutions']:\n",
    "            namestr = foo['First Name'] + ' ' + foo['Last Name'] + '; '\n",
    "            outputs = outputs + namestr\n",
    "    return outputs\n",
    "\n",
    "\n",
    "#print(searchForName(data,'Alice','Test'))\n",
    "#print(searchForInstitution(data,'inst1'))\n"
   ]
  },
  {
   "cell_type": "markdown",
   "id": "abf928fa-dcfb-4f2b-8749-061d3961c58e",
   "metadata": {},
   "source": [
    "Query the data given inputs and present in a pretty way"
   ]
  },
  {
   "cell_type": "code",
   "execution_count": 189,
   "id": "db7d67fa-634f-410f-a07b-3264e8c57a18",
   "metadata": {},
   "outputs": [
    {
     "name": "stdout",
     "output_type": "stream",
     "text": [
      "Megan Poorman was at the following institutions:\n",
      "\n",
      "['Texas A&M University', 'Vanderbilt University', 'University Medical Center Utrecht', 'National Institute of Standards and Technology']\n"
     ]
    }
   ],
   "source": [
    "if queryType=='Full Name':\n",
    "    outputs = searchForName(data,queryFirst,queryLast)\n",
    "    printHeader = queryFirst + ' ' + queryLast + ' was at the following institutions:\\n'\n",
    "elif queryType=='Institution':\n",
    "    outputs = searchForInstitution(data,queryInstitution)\n",
    "    printHeader = 'The following people have been at ' + queryInstitution + ':\\n'\n",
    "print(printHeader)\n",
    "print(outputs)"
   ]
  }
 ],
 "metadata": {
  "kernelspec": {
   "display_name": "Python 3",
   "language": "python",
   "name": "python3"
  },
  "language_info": {
   "codemirror_mode": {
    "name": "ipython",
    "version": 3
   },
   "file_extension": ".py",
   "mimetype": "text/x-python",
   "name": "python",
   "nbconvert_exporter": "python",
   "pygments_lexer": "ipython3",
   "version": "3.9.4"
  }
 },
 "nbformat": 4,
 "nbformat_minor": 5
}
